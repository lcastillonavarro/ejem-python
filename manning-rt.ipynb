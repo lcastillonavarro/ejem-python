{
  "nbformat": 4,
  "nbformat_minor": 0,
  "metadata": {
    "colab": {
      "name": "Untitled0.ipynb",
      "provenance": [],
      "include_colab_link": true
    },
    "kernelspec": {
      "name": "python3",
      "display_name": "Python 3"
    }
  },
  "cells": [
    {
      "cell_type": "markdown",
      "metadata": {
        "id": "view-in-github",
        "colab_type": "text"
      },
      "source": [
        "<a href=\"https://colab.research.google.com/github/lcastillonavarro/ejem-python/blob/master/manning-rt.ipynb\" target=\"_parent\"><img src=\"https://colab.research.google.com/assets/colab-badge.svg\" alt=\"Open In Colab\"/></a>"
      ]
    },
    {
      "cell_type": "code",
      "metadata": {
        "id": "dXgxPaAUodnd",
        "colab_type": "code",
        "colab": {
          "base_uri": "https://localhost:8080/",
          "height": 302
        },
        "outputId": "7faf0d6d-f4dd-40bc-a8ec-f363b2f4685b"
      },
      "source": [
        "import os\n",
        "os.system (\"cls\") \n",
        "def newton(f,Df,x0,epsilon,max_iter):\n",
        "    '''Approximate solution of f(x)=0 by Newton's method.\n",
        "\n",
        "    Parameters\n",
        "    ----------\n",
        "    f : function\n",
        "        Function for which we are searching for a solution f(x)=0.\n",
        "    Df : function\n",
        "        Derivative of f(x).\n",
        "    x0 : number\n",
        "        Initial guess for a solution f(x)=0.\n",
        "    epsilon : number\n",
        "        Stopping criteria is abs(f(x)) < epsilon.\n",
        "    max_iter : integer\n",
        "        Maximum number of iterations of Newton's method.\n",
        "\n",
        "    Returns\n",
        "    -------\n",
        "    xn : number\n",
        "        Implement Newton's method: compute the linear approximation\n",
        "        of f(x) at xn and find x intercept by the formula\n",
        "            x = xn - f(xn)/Df(xn)\n",
        "        Continue until abs(f(xn)) < epsilon and return xn.\n",
        "        If Df(xn) == 0, return None. If the number of iterations\n",
        "        exceeds max_iter, then return None.\n",
        "    '''\n",
        "    xn = x0\n",
        "    for n in range(0,max_iter):\n",
        "        fxn = f(xn)\n",
        "        if abs(fxn) < epsilon:\n",
        "            print('Found solution after',n,'iterations.')\n",
        "            return xn\n",
        "        Dfxn = Df(xn)\n",
        "        if Dfxn == 0:\n",
        "            print('Zero derivative. No solution found.')\n",
        "            return None\n",
        "        xn = xn - fxn/Dfxn\n",
        "    print('Exceeded maximum iterations. No solution found.')\n",
        "    return None\n",
        "\n",
        "A = lambda y: B*y+.5*ZD*y**2+.5*ZI*y**2\n",
        "DA = lambda y: B+y*ZD+y*ZI\n",
        "P = lambda y: B+y*(1+ZD**2)**.5+y*(1+ZI**2)**.5\n",
        "DP = lambda y: (1+ZD**2)**.5+(1+ZI**2)**.5\n",
        "f = lambda y: (A(y)**(5/3))*(P(y)**(-2/3))-Q*n*S**(-.5)\n",
        "Df = lambda y: (5/3)*(A(y)**(2/3))*DA(y)*(P(y)**(-2/3))+(A(y)**(5/3))*((-2/3)*(P(y)**(-5/3)))*(DP(y)) \n",
        "Froude= lambda y: (Q/A(y))/(9.81*A(y)/(B+ZI*y+ZD*y))**.5\n",
        "\n",
        "print(\"ECUACION DE MANNING - CANAL RECTANGULAR/TRAPEZOIDAL\")\n",
        "print(\"===================================================\")\n",
        "B = float(input(\"Escriba el valor de la base del canal (m): \"))\n",
        "ZD = float(input(\"Escriba el valor del talud derecho 1V:ZDH: \"))\n",
        "ZI = float(input(\"Escriba el valor del talud izquierdo 1V:ZIH: \"))\n",
        "Q = float(input(\"Escriba el valor del caudal (m3/s): \"))\n",
        "n = float(input(\"Escriba el valor de la rugosidad de manning: \"))\n",
        "S = float(input(\"Escriba el valor de la pendiente (m/m): \"))\n",
        "\n",
        "approx = newton(f,Df,.1,1e-8,1000)\n",
        "print(\"Tirante(m)           =\", approx)\n",
        "print(\"Velocidad(m/s)       =\", Q/A(approx))\n",
        "print(\"Area(m2)             =\", A(approx))\n",
        "print(\"Perímetro(m)         =\", P(approx))\n",
        "print(\"Radio hidráulico(m)  =\", A(approx)/P(approx))\n",
        "print(\"Espejo de agua(m)    =\", B+ZI*approx+ZD*approx)\n",
        "print(\"No. Froude           =\", Froude(approx))\n",
        "if Froude(approx)>1:\n",
        "    print(\"                     = Flujo supercrítico\")\n",
        "else:\n",
        "    print(\"                     = Flujo subcrítico\")"
      ],
      "execution_count": 1,
      "outputs": [
        {
          "output_type": "stream",
          "text": [
            "ECUACION DE MANNING - CANAL RECTANGULAR/TRAPEZOIDAL\n",
            "===================================================\n",
            "Escriba el valor de la base del canal (m): 5\n",
            "Escriba el valor del talud derecho 1V:ZDH: .5\n",
            "Escriba el valor del talud izquierdo 1V:ZIH: 1\n",
            "Escriba el valor del caudal (m3/s): 15\n",
            "Escriba el valor de la rugosidad de manning: 0.035\n",
            "Escriba el valor de la pendiente (m/m): 0.001\n",
            "Found solution after 7 iterations.\n",
            "Tirante(m)           = 2.087931702640358\n",
            "Velocidad(m/s)       = 1.0941515505920456\n",
            "Area(m2)             = 13.709252609369788\n",
            "Perímetro(m)         = 10.287159940923102\n",
            "Radio hidráulico(m)  = 1.332656699040261\n",
            "Espejo de agua(m)    = 8.131897553960536\n",
            "No. Froude           = 0.269049405273737\n",
            "                     = Flujo subcrítico\n"
          ],
          "name": "stdout"
        }
      ]
    }
  ]
}